{
 "cells": [
  {
   "cell_type": "markdown",
   "metadata": {},
   "source": [
    "# Final Project \"Detecting Hate Speech and Offensive Language on Twitter using Machine Learning\""
   ]
  },
  {
   "cell_type": "markdown",
   "metadata": {},
   "source": [
    "## Step-1: Import Libraries"
   ]
  },
  {
   "cell_type": "code",
   "execution_count": 4,
   "metadata": {},
   "outputs": [],
   "source": [
    "# import packages\n",
    "\n",
    "import numpy as np\n",
    "import pandas as pd\n",
    "import tweepy\n",
    "from tweepy import API\n",
    "from tweepy import Cursor\n",
    "from tweepy.streaming import StreamListener # With this we can listen to Tweets based on certain keywords and hashtags\n",
    "from tweepy import OAuthHandler # Responsible for Authenticating for some of the authenticating credentials stored in TwitterCredentials.py file\n",
    "from tweepy import Stream\n",
    "from bokeh.layouts import column\n",
    "from flask import request\n",
    "from flask import Flask, render_template, session, redirect\n",
    "from werkzeug.wrappers import Request, Response\n",
    "from flask import Flask\n",
    "from bokeh.io import show, output_notebook\n",
    "from bokeh.plotting import figure\n",
    "import re\n",
    "import threading\n",
    "import pandas as pd\n",
    "import numpy as np\n",
    "from nltk.corpus import stopwords\n",
    "import random\n",
    "from bs4 import BeautifulSoup\n",
    "from nltk.tokenize import WordPunctTokenizer\n",
    "from nltk.tokenize import word_tokenize\n",
    "import nltk\n",
    "import matplotlib.pyplot as plt\n",
    "from wordcloud import WordCloud\n",
    "from sklearn.feature_extraction.text import CountVectorizer\n",
    "from sklearn.feature_extraction.text import TfidfVectorizer\n",
    "from sklearn.model_selection import train_test_split\n",
    "from sklearn.linear_model import LogisticRegression\n",
    "from sklearn.pipeline import Pipeline\n",
    "from sklearn.metrics import accuracy_score\n",
    "from sklearn.metrics import classification_report, confusion_matrix\n",
    "from sklearn.svm import LinearSVC\n",
    "from sklearn.naive_bayes import MultinomialNB\n",
    "from textblob import TextBlob\n",
    "\n",
    "\n",
    "# Initializing the three classifiers\n",
    "svc = LinearSVC()\n",
    "nb = MultinomialNB()\n",
    "lr = LogisticRegression()\n",
    "%matplotlib inline"
   ]
  },
  {
   "cell_type": "markdown",
   "metadata": {},
   "source": [
    "## Step-2: Import and Load dataset"
   ]
  },
  {
   "cell_type": "code",
   "execution_count": 5,
   "metadata": {},
   "outputs": [
    {
     "name": "stdout",
     "output_type": "stream",
     "text": [
      "   class                                              tweet\n",
      "0      2  !!! RT @mayasolovely: As a woman you shouldn't...\n",
      "1      1  !!!!! RT @mleew17: boy dats cold...tyga dwn ba...\n",
      "2      1  !!!!!!! RT @UrKindOfBrand Dawg!!!! RT @80sbaby...\n",
      "3      1  !!!!!!!!! RT @C_G_Anderson: @viva_based she lo...\n",
      "4      1  !!!!!!!!!!!!! RT @ShenikaRoberts: The shit you...\n",
      "5      1  !!!!!!!!!!!!!!!!!!\"@T_Madison_x: The shit just...\n",
      "6      1  !!!!!!\"@__BrighterDays: I can not just sit up ...\n",
      "7      1  !!!!&#8220;@selfiequeenbri: cause I'm tired of...\n",
      "8      1  \" &amp; you might not get ya bitch back &amp; ...\n",
      "9      1  \" @rhythmixx_ :hobbies include: fighting Maria...\n"
     ]
    }
   ],
   "source": [
    "# Importing dataset\n",
    "df = pd.read_csv('/Users/nitinkumar/Downloads/tweets_labelled_dataset.csv')\n",
    "df = df.drop(df.columns[[0,1,2,3,4]],axis=1)\n",
    "print(df.head(10))\n",
    "\n",
    "# changing the column labels\n",
    "df['class'] = df['class'].map({0:1 , 1:1, 2:0}) # change class label into (0, 1)\n",
    "df.columns = ['Insult','Comment']"
   ]
  },
  {
   "cell_type": "code",
   "execution_count": 6,
   "metadata": {},
   "outputs": [
    {
     "name": "stdout",
     "output_type": "stream",
     "text": [
      "                                             Comment  Insult\n",
      "0  @truckpartstores Intended to get pics but didn...       0\n",
      "1        RT @transtrenda: Okay okay but. Trans birds       0\n",
      "2  @GossipCop Julie tell them crybaby blacks to g...       1\n",
      "3  RT @JustDoItSlow: @vintage_monroe_ scary told ...       1\n",
      "4       @Myalynn__x3 freeze bitch &#128514;&#128514;       1\n",
      "5         Hahaha I see you niggah &#128064;&#128517;       1\n",
      "6                       Yo bitch I had fun with that       1\n",
      "7  RT @HootieGang4Ever: Des bitches swear dey fai...       1\n",
      "8  Hope you find a bitch with some ass that satis...       1\n",
      "9  RT @toddknife: Full @weakenednachos set (excep...       0\n"
     ]
    }
   ],
   "source": [
    "df_Tweets= df.sample(frac=1,axis=1).sample(frac=1).reset_index(drop=True)\n",
    "print(df_Tweets.head(10))"
   ]
  },
  {
   "cell_type": "markdown",
   "metadata": {},
   "source": [
    "## Step-3 : Data Cleaning & Pre-Processing"
   ]
  },
  {
   "cell_type": "markdown",
   "metadata": {},
   "source": [
    "First, let’s divide our dataset into features and label set. In our feature set, we will only use the text of the tweets as a feature. The corresponding label will be the sentiment of the tweet. \n",
    "\n",
    "Our dataset contains many irregularities so we need to remove them in order to have a clean dataset. The following script does that:"
   ]
  },
  {
   "cell_type": "code",
   "execution_count": 7,
   "metadata": {},
   "outputs": [],
   "source": [
    "tok = WordPunctTokenizer()\n",
    "# for removing usernames\n",
    "ignore_list = ['rt', 'xa', 'da', 're']\n",
    "pat1 = r'@[A-Za-z0-9]+'\n",
    "# removing hyperlinks\n",
    "pat2 = r'https?://[^ ]+'\n",
    "combined_pat = r'|'.join((pat1, pat2))\n",
    "www_pat = r'www.[^ ]+'\n",
    "# for reading the negation words correctly\n",
    "negations_dic = {\"isn't\":\"is not\", \"aren't\":\"are not\", \"wasn't\":\"was not\", \"weren't\":\"were not\",\n",
    "                \"haven't\":\"have not\",\"hasn't\":\"has not\",\"hadn't\":\"had not\",\"won't\":\"will not\",\n",
    "                \"wouldn't\":\"would not\", \"don't\":\"do not\", \"doesn't\":\"does not\",\"didn't\":\"did not\",\n",
    "                \"can't\":\"can not\",\"couldn't\":\"could not\",\"shouldn't\":\"should not\",\"mightn't\":\"might not\",\n",
    "                \"mustn't\":\"must not\"}\n",
    "neg_pattern = re.compile(r'\\b(' + '|'.join(negations_dic.keys()) + r')\\b')\n",
    "\n",
    "# helper function to clean the text\n",
    "\n",
    "def text_cleaner(text):\n",
    "    soup = BeautifulSoup(text, 'lxml')\n",
    "    souped = soup.get_text()\n",
    "    try:\n",
    "        bom_removed = souped.decode(\"utf-8-sig\").replace(u\"\\ufffd\", \"?\")\n",
    "    except:\n",
    "        bom_removed = souped        \n",
    "    stripped = re.sub(combined_pat, '', bom_removed)\n",
    "    stripped = re.sub(www_pat, '', stripped)\n",
    "    lower_case = stripped.lower()\n",
    "    neg_handled = neg_pattern.sub(lambda x: negations_dic[x.group()], lower_case)\n",
    "    letters_only = re.sub(\"[^a-zA-Z]\", \" \", neg_handled)\n",
    "    # During the letters_only process two lines above, it has created unnecessay white spaces,\n",
    "    # I will tokenize and join together to remove unneccessary white spaces\n",
    "    words = [x for x  in tok.tokenize(letters_only) if len(x) >= 1 and x not in ignore_list]\n",
    "    return (\" \".join(words)).strip()"
   ]
  },
  {
   "cell_type": "code",
   "execution_count": 8,
   "metadata": {},
   "outputs": [],
   "source": [
    "clean_texts = []\n",
    "for i in range(len(df_Tweets.Comment)):\n",
    "    clean_texts.append(text_cleaner(df_Tweets['Comment'][i]))"
   ]
  },
  {
   "cell_type": "code",
   "execution_count": 9,
   "metadata": {},
   "outputs": [
    {
     "name": "stdout",
     "output_type": "stream",
     "text": [
      "                                                text  Insult\n",
      "0  intended to get pics but did not have time mus...       0\n",
      "1                          okay okay but trans birds       0\n",
      "2  julie tell them crybaby blacks to get someone ...       1\n",
      "3  monroe scary told to come to her house to figh...       1\n",
      "4                                     x freeze bitch       1\n",
      "5                            hahaha i see you niggah       1\n",
      "6                       yo bitch i had fun with that       1\n",
      "7                     des bitches swear dey faithful       1\n",
      "8  hope you find a bitch with some ass that satis...       1\n",
      "9  full set except the last song from southern da...       0\n"
     ]
    }
   ],
   "source": [
    "# cleaned dataset\n",
    "\n",
    "clean_df = pd.DataFrame(clean_texts, columns = ['text'])\n",
    "clean_df['Insult'] = df_Tweets['Insult']\n",
    "print(clean_df.head(10))"
   ]
  },
  {
   "cell_type": "markdown",
   "metadata": {},
   "source": [
    "## Step-4 : Defining Data Cleaning function through Word Cloud"
   ]
  },
  {
   "cell_type": "code",
   "execution_count": 10,
   "metadata": {},
   "outputs": [],
   "source": [
    "ignore_list = ['rt', 'xa', 'da', 're']"
   ]
  },
  {
   "cell_type": "code",
   "execution_count": 11,
   "metadata": {},
   "outputs": [],
   "source": [
    "neg_tweets = clean_df[clean_df['Insult']==1]\n",
    "neg_string = []\n",
    "for t in neg_tweets.text:\n",
    "        neg_string.append(t)\n",
    "neg_string = pd.Series(neg_string).str.cat(sep=' ')\n",
    "\n",
    "# Split the String into the words\n",
    "tokens = word_tokenize(neg_string)\n",
    "tokens = [w for w in tokens if not w in (stopwords.words('english') and ignore_list)]\n",
    "random.shuffle(tokens)\n",
    "lemma = nltk.wordnet.WordNetLemmatizer()\n",
    "neg_string = []\n",
    "for word in tokens:\n",
    "    neg_string.append(lemma.lemmatize(word))\n",
    "neg_string = pd.Series(neg_string).str.cat(sep=' ')"
   ]
  },
  {
   "cell_type": "code",
   "execution_count": 12,
   "metadata": {},
   "outputs": [
    {
     "data": {
      "image/png": "[encoded data removed]",
      "text/plain": [
       "<Figure size 864x720 with 1 Axes>"
      ]
     },
     "metadata": {
      "needs_background": "light"
     },
     "output_type": "display_data"
    }
   ],
   "source": [
    "# Configuring word cloud\n",
    "wordcloud = WordCloud(width=1600, height=800,max_font_size=200).generate(neg_string)\n",
    "plt.figure(figsize=(12,10))\n",
    "plt.imshow(wordcloud, interpolation=\"bilinear\")\n",
    "plt.axis(\"off\")\n",
    "plt.show()"
   ]
  },
  {
   "cell_type": "markdown",
   "metadata": {},
   "source": [
    "## Step-5 : Train / Dev / Test Split"
   ]
  },
  {
   "cell_type": "markdown",
   "metadata": {},
   "source": [
    "Before we can train any model, we first consider how to split the data. Here I chose to split the data into three chunks: train, development, test. I referenced Andrew Ng's \"deeplearning.ai\" course on how to split the data.\n",
    "\n",
    "**Train set**: The sample of data used for learning\n",
    "\n",
    "**Development set (Hold-out cross-validation set)**: The sample of data used to tune the parameters of a classifier, and provide an unbiased evaluation of a model.\n",
    "\n",
    "**Test set**: The sample of data used only to assess the performance of a final model.\n",
    "\n",
    "Another approach is splitting the data into only train and test set, and run k-fold cross-validation on the training set, so that you can have an unbiased evaluation of a model. But considering the size of the data, I have decided to use the train set only to train a model, and evaluate on the dev set, so that I can quickly test different algorithms and run this process iteratively."
   ]
  },
  {
   "cell_type": "code",
   "execution_count": 13,
   "metadata": {},
   "outputs": [],
   "source": [
    "X = clean_df.text\n",
    "y = clean_df.Insult"
   ]
  },
  {
   "cell_type": "code",
   "execution_count": 14,
   "metadata": {},
   "outputs": [],
   "source": [
    "x_train, x_validation_and_test, y_train, y_validation_and_test = train_test_split(X, y, test_size=.2, random_state=0)\n",
    "\n",
    "x_validation, x_test, y_validation, y_test = train_test_split(x_validation_and_test, y_validation_and_test, \n",
    "                                                              test_size=.5, random_state=0)"
   ]
  },
  {
   "cell_type": "code",
   "execution_count": 15,
   "metadata": {},
   "outputs": [
    {
     "name": "stdout",
     "output_type": "stream",
     "text": [
      "Train set has total 19826 entries with 16.84% neutral, 83.16% negative\n",
      "Validation set has total 2478 entries with 16.67% neutral, 83.33% negative\n",
      "Test set has total 2479 entries with 16.58% neutral, 83.42% negative\n"
     ]
    }
   ],
   "source": [
    "print (\"Train set has total {0} entries with {1:.2f}% neutral, {2:.2f}% negative\".format(len(x_train),\n",
    "                                                                             (len(x_train[y_train == 0]) / (len(x_train)*1.))*100,\n",
    "                                                                            (len(x_train[y_train == 1]) / (len(x_train)*1.))*100))\n",
    "print (\"Validation set has total {0} entries with {1:.2f}% neutral, {2:.2f}% negative\".format(len(x_validation),\n",
    "                                                                             (len(x_validation[y_validation == 0]) / (len(x_validation)*1.))*100,\n",
    "                                                                            (len(x_validation[y_validation == 1]) / (len(x_validation)*1.))*100))\n",
    "print (\"Test set has total {0} entries with {1:.2f}% neutral, {2:.2f}% negative\".format(len(x_test),\n",
    "                                                                             (len(x_test[y_test == 0]) / (len(x_test)*1.))*100,\n",
    "                                                                            (len(x_test[y_test == 1]) / (len(x_test)*1.))*100))"
   ]
  },
  {
   "cell_type": "markdown",
   "metadata": {},
   "source": [
    "## Step-6: Baseline- Sentiment Analysis using TextBlob¶"
   ]
  },
  {
   "cell_type": "markdown",
   "metadata": {},
   "source": [
    "Another baseline I wanted to compare the validation results with is TextBlob. Textblob is a python library for processing textual data. Apart from other useful tools such as POS tagging, n-gram, The package has built-in sentiment classification. This is a so-called out-of-the-box sentiment analysis tool, and in addition to the null accuracy, I will also keep in mind of the accuracy I get from TextBlob sentiment analysis to see how my model is performing."
   ]
  },
  {
   "cell_type": "code",
   "execution_count": 16,
   "metadata": {},
   "outputs": [],
   "source": [
    "tbresult = [TextBlob(i).sentiment.polarity for i in x_validation]\n",
    "tbpred = [0 if n < 0 else 1 for n in tbresult]"
   ]
  },
  {
   "cell_type": "code",
   "execution_count": 17,
   "metadata": {},
   "outputs": [
    {
     "name": "stdout",
     "output_type": "stream",
     "text": [
      "[[1383  682]\n",
      " [ 346   67]]\n"
     ]
    }
   ],
   "source": [
    "print(confusion_matrix(y_validation, tbpred, labels=[1,0]))"
   ]
  },
  {
   "cell_type": "code",
   "execution_count": 19,
   "metadata": {},
   "outputs": [
    {
     "name": "stdout",
     "output_type": "stream",
     "text": [
      "Accuracy Score: 58.51%\n",
      "--------------------------------------------------------------------------------\n",
      "Confusion Matrix\n",
      "\n",
      "          predicted_negative  predicted_neutral\n",
      "negative                1383                682\n",
      "neutral                  346                 67\n",
      "--------------------------------------------------------------------------------\n",
      "Classification Report\n",
      "\n",
      "              precision    recall  f1-score   support\n",
      "\n",
      "           0       0.09      0.16      0.12       413\n",
      "           1       0.80      0.67      0.73      2065\n",
      "\n",
      "    accuracy                           0.59      2478\n",
      "   macro avg       0.44      0.42      0.42      2478\n",
      "weighted avg       0.68      0.59      0.63      2478\n",
      "\n"
     ]
    }
   ],
   "source": [
    "conmat = np.array(confusion_matrix(y_validation, tbpred, labels=[1,0]))\n",
    "\n",
    "confusion = pd.DataFrame(conmat, index=['negative', 'neutral'],\n",
    "                         columns=['predicted_negative','predicted_neutral'])\n",
    "print(\"Accuracy Score: {0:.2f}%\".format(accuracy_score(y_validation, tbpred)*100))\n",
    "print(\"-\"*80)\n",
    "print(\"Confusion Matrix\\n\")\n",
    "print(confusion)\n",
    "print(\"-\"*80)\n",
    "print(\"Classification Report\\n\")\n",
    "print(classification_report(y_validation, tbpred))"
   ]
  },
  {
   "cell_type": "markdown",
   "metadata": {},
   "source": [
    "TextBlob sentiment analysis yielded 58.51% accuracy on the validation set."
   ]
  },
  {
   "cell_type": "markdown",
   "metadata": {},
   "source": [
    "## Step-7 : Feature Extraction & Model Evaluation by using Tf-idf with n-gram range"
   ]
  },
  {
   "cell_type": "markdown",
   "metadata": {},
   "source": [
    "We are going to extract features through Tf-Idf with ngram range so that we could evaluate our diffrent algorithm.\n",
    "\n",
    "Below I define two functions to iteratively train on a different number of features, then check the accuracy of different classifier on the validation set."
   ]
  },
  {
   "cell_type": "markdown",
   "metadata": {},
   "source": [
    "### Accuracy Summary"
   ]
  },
  {
   "cell_type": "code",
   "execution_count": 20,
   "metadata": {},
   "outputs": [],
   "source": [
    "# helper function - accuracy_summary\n",
    "\n",
    "def accuracy_summary(pipeline, x_train, y_train, x_test, y_test):\n",
    "    if len(x_test[y_test == 0]) / (len(x_test)*1.) > 0.5:\n",
    "        null_accuracy = len(x_test[y_test == 0]) / (len(x_test)*1.)\n",
    "    else:\n",
    "        null_accuracy = 1. - (len(x_test[y_test == 0]) / (len(x_test)*1.))\n",
    "        \n",
    "    sentiment_fit = pipeline.fit(x_train, y_train)\n",
    "    y_pred = sentiment_fit.predict(x_test)\n",
    "    accuracy = accuracy_score(y_test, y_pred)\n",
    "    print(\"null accuracy: {0:.2f}%\".format(null_accuracy*100))\n",
    "    print(\"accuracy score: {0:.2f}%\".format(accuracy*100))\n",
    "    if accuracy > null_accuracy:\n",
    "        print(\"model is {0:.2f}% more accurate than null accuracy\".format((accuracy-null_accuracy)*100))\n",
    "    elif accuracy == null_accuracy:\n",
    "        print(\"model has the same accuracy with the null accuracy\")\n",
    "    else:\n",
    "        print(\"model is {0:.2f}% less accurate than null accuracy\".format((null_accuracy-accuracy)*100))\n",
    "    print(\"-\"*80)\n",
    "    return accuracy"
   ]
  },
  {
   "cell_type": "code",
   "execution_count": 21,
   "metadata": {},
   "outputs": [],
   "source": [
    "cvec = CountVectorizer()\n",
    "lr = LogisticRegression()\n",
    "tvec = TfidfVectorizer()\n",
    "n_features = np.arange(17000,60000,5000)\n",
    "# helper function - accuracy checker for n features\n",
    "def nfeature_accuracy_checker(vectorizer=cvec, min_df=1,n_features=n_features, stop_words=None, ngram_range=(1, 1), classifier=lr\n",
    "):\n",
    "    result = []\n",
    "    print (classifier)\n",
    "    print (\"\\n\")\n",
    "    for n in n_features:\n",
    "        vectorizer.set_params(min_df=min_df,stop_words=stop_words, max_features=n, ngram_range=ngram_range)\n",
    "        checker_pipeline = Pipeline([('vectorizer', vectorizer),('classifier', classifier)])\n",
    "        print (\"Validation result for {} features\".format(n))\n",
    "        nfeature_accuracy = accuracy_summary(checker_pipeline, x_train, y_train, x_validation, y_validation)\n",
    "        result.append((n,nfeature_accuracy))\n",
    "    return result, checker_pipeline"
   ]
  },
  {
   "cell_type": "markdown",
   "metadata": {},
   "source": [
    "### Accuracy using Tf-Idf on LinearSVC with **UNIGRAM**"
   ]
  },
  {
   "cell_type": "code",
   "execution_count": 22,
   "metadata": {},
   "outputs": [
    {
     "name": "stdout",
     "output_type": "stream",
     "text": [
      "RESULT FOR UNIGRAM WITH STOP WORDS\n",
      "\n",
      "LinearSVC(C=1.0, class_weight=None, dual=True, fit_intercept=True,\n",
      "          intercept_scaling=1, loss='squared_hinge', max_iter=1000,\n",
      "          multi_class='ovr', penalty='l2', random_state=None, tol=0.0001,\n",
      "          verbose=0)\n",
      "\n",
      "\n",
      "Validation result for 17000 features\n",
      "null accuracy: 83.33%\n",
      "accuracy score: 95.60%\n",
      "model is 12.27% more accurate than null accuracy\n",
      "--------------------------------------------------------------------------------\n",
      "Validation result for 22000 features\n",
      "null accuracy: 83.33%\n",
      "accuracy score: 95.36%\n",
      "model is 12.03% more accurate than null accuracy\n",
      "--------------------------------------------------------------------------------\n",
      "Validation result for 27000 features\n",
      "null accuracy: 83.33%\n",
      "accuracy score: 95.36%\n",
      "model is 12.03% more accurate than null accuracy\n",
      "--------------------------------------------------------------------------------\n",
      "Validation result for 32000 features\n",
      "null accuracy: 83.33%\n",
      "accuracy score: 95.36%\n",
      "model is 12.03% more accurate than null accuracy\n",
      "--------------------------------------------------------------------------------\n",
      "Validation result for 37000 features\n",
      "null accuracy: 83.33%\n",
      "accuracy score: 95.36%\n",
      "model is 12.03% more accurate than null accuracy\n",
      "--------------------------------------------------------------------------------\n",
      "Validation result for 42000 features\n",
      "null accuracy: 83.33%\n",
      "accuracy score: 95.36%\n",
      "model is 12.03% more accurate than null accuracy\n",
      "--------------------------------------------------------------------------------\n",
      "Validation result for 47000 features\n",
      "null accuracy: 83.33%\n",
      "accuracy score: 95.36%\n",
      "model is 12.03% more accurate than null accuracy\n",
      "--------------------------------------------------------------------------------\n",
      "Validation result for 52000 features\n",
      "null accuracy: 83.33%\n",
      "accuracy score: 95.36%\n",
      "model is 12.03% more accurate than null accuracy\n",
      "--------------------------------------------------------------------------------\n",
      "Validation result for 57000 features\n",
      "null accuracy: 83.33%\n",
      "accuracy score: 95.36%\n",
      "model is 12.03% more accurate than null accuracy\n",
      "--------------------------------------------------------------------------------\n"
     ]
    }
   ],
   "source": [
    "print (\"RESULT FOR UNIGRAM WITH STOP WORDS\\n\")\n",
    "svc_feature_result_ug, svc_u_checker_pipeline = nfeature_accuracy_checker(vectorizer=tvec,classifier=svc)"
   ]
  },
  {
   "cell_type": "markdown",
   "metadata": {},
   "source": [
    "### Accuracy using Tf-Idf on LinearSVC with **BIGRAM**"
   ]
  },
  {
   "cell_type": "code",
   "execution_count": 23,
   "metadata": {},
   "outputs": [
    {
     "name": "stdout",
     "output_type": "stream",
     "text": [
      "RESULT FOR BIGRAM WITH STOP WORDS\n",
      "\n",
      "LinearSVC(C=1.0, class_weight=None, dual=True, fit_intercept=True,\n",
      "          intercept_scaling=1, loss='squared_hinge', max_iter=1000,\n",
      "          multi_class='ovr', penalty='l2', random_state=None, tol=0.0001,\n",
      "          verbose=0)\n",
      "\n",
      "\n",
      "Validation result for 17000 features\n",
      "null accuracy: 83.33%\n",
      "accuracy score: 95.04%\n",
      "model is 11.70% more accurate than null accuracy\n",
      "--------------------------------------------------------------------------------\n",
      "Validation result for 22000 features\n",
      "null accuracy: 83.33%\n",
      "accuracy score: 95.04%\n",
      "model is 11.70% more accurate than null accuracy\n",
      "--------------------------------------------------------------------------------\n",
      "Validation result for 27000 features\n",
      "null accuracy: 83.33%\n",
      "accuracy score: 95.04%\n",
      "model is 11.70% more accurate than null accuracy\n",
      "--------------------------------------------------------------------------------\n",
      "Validation result for 32000 features\n",
      "null accuracy: 83.33%\n",
      "accuracy score: 95.08%\n",
      "model is 11.74% more accurate than null accuracy\n",
      "--------------------------------------------------------------------------------\n",
      "Validation result for 37000 features\n",
      "null accuracy: 83.33%\n",
      "accuracy score: 95.08%\n",
      "model is 11.74% more accurate than null accuracy\n",
      "--------------------------------------------------------------------------------\n",
      "Validation result for 42000 features\n",
      "null accuracy: 83.33%\n",
      "accuracy score: 95.08%\n",
      "model is 11.74% more accurate than null accuracy\n",
      "--------------------------------------------------------------------------------\n",
      "Validation result for 47000 features\n",
      "null accuracy: 83.33%\n",
      "accuracy score: 95.08%\n",
      "model is 11.74% more accurate than null accuracy\n",
      "--------------------------------------------------------------------------------\n",
      "Validation result for 52000 features\n",
      "null accuracy: 83.33%\n",
      "accuracy score: 95.08%\n",
      "model is 11.74% more accurate than null accuracy\n",
      "--------------------------------------------------------------------------------\n",
      "Validation result for 57000 features\n",
      "null accuracy: 83.33%\n",
      "accuracy score: 95.08%\n",
      "model is 11.74% more accurate than null accuracy\n",
      "--------------------------------------------------------------------------------\n"
     ]
    }
   ],
   "source": [
    "print (\"RESULT FOR BIGRAM WITH STOP WORDS\\n\")\n",
    "svc_feature_result_bg, svc_b_checker_pipeline = nfeature_accuracy_checker(vectorizer=tvec,classifier=svc,min_df=2,ngram_range=(1, 2))"
   ]
  },
  {
   "cell_type": "markdown",
   "metadata": {},
   "source": [
    "### Accuracy using Tf-Idf on LinearSVC with **TRIGRAM**"
   ]
  },
  {
   "cell_type": "code",
   "execution_count": 24,
   "metadata": {},
   "outputs": [
    {
     "name": "stdout",
     "output_type": "stream",
     "text": [
      "RESULT FOR TRIGRAM WITH STOP WORDS\n",
      "\n",
      "LinearSVC(C=1.0, class_weight=None, dual=True, fit_intercept=True,\n",
      "          intercept_scaling=1, loss='squared_hinge', max_iter=1000,\n",
      "          multi_class='ovr', penalty='l2', random_state=None, tol=0.0001,\n",
      "          verbose=0)\n",
      "\n",
      "\n",
      "Validation result for 17000 features\n",
      "null accuracy: 83.33%\n",
      "accuracy score: 95.00%\n",
      "model is 11.66% more accurate than null accuracy\n",
      "--------------------------------------------------------------------------------\n",
      "Validation result for 22000 features\n",
      "null accuracy: 83.33%\n",
      "accuracy score: 95.00%\n",
      "model is 11.66% more accurate than null accuracy\n",
      "--------------------------------------------------------------------------------\n",
      "Validation result for 27000 features\n",
      "null accuracy: 83.33%\n",
      "accuracy score: 94.92%\n",
      "model is 11.58% more accurate than null accuracy\n",
      "--------------------------------------------------------------------------------\n",
      "Validation result for 32000 features\n",
      "null accuracy: 83.33%\n",
      "accuracy score: 95.00%\n",
      "model is 11.66% more accurate than null accuracy\n",
      "--------------------------------------------------------------------------------\n",
      "Validation result for 37000 features\n",
      "null accuracy: 83.33%\n",
      "accuracy score: 95.00%\n",
      "model is 11.66% more accurate than null accuracy\n",
      "--------------------------------------------------------------------------------\n",
      "Validation result for 42000 features\n",
      "null accuracy: 83.33%\n",
      "accuracy score: 95.08%\n",
      "model is 11.74% more accurate than null accuracy\n",
      "--------------------------------------------------------------------------------\n",
      "Validation result for 47000 features\n",
      "null accuracy: 83.33%\n",
      "accuracy score: 95.04%\n",
      "model is 11.70% more accurate than null accuracy\n",
      "--------------------------------------------------------------------------------\n",
      "Validation result for 52000 features\n",
      "null accuracy: 83.33%\n",
      "accuracy score: 95.04%\n",
      "model is 11.70% more accurate than null accuracy\n",
      "--------------------------------------------------------------------------------\n",
      "Validation result for 57000 features\n",
      "null accuracy: 83.33%\n",
      "accuracy score: 95.04%\n",
      "model is 11.70% more accurate than null accuracy\n",
      "--------------------------------------------------------------------------------\n"
     ]
    }
   ],
   "source": [
    "print (\"RESULT FOR TRIGRAM WITH STOP WORDS\\n\")\n",
    "svc_feature_result_tg, svc_t_checker_pipeline = nfeature_accuracy_checker(vectorizer=tvec,classifier=svc,min_df=2,ngram_range=(1, 3))"
   ]
  },
  {
   "cell_type": "markdown",
   "metadata": {},
   "source": [
    "### Accuracy using Tf-Idf on Multinomial Naive Bayes with **UNIGRAM**"
   ]
  },
  {
   "cell_type": "code",
   "execution_count": 25,
   "metadata": {},
   "outputs": [
    {
     "name": "stdout",
     "output_type": "stream",
     "text": [
      "MultinomialNB(alpha=1.0, class_prior=None, fit_prior=True)\n",
      "\n",
      "\n",
      "Validation result for 17000 features\n",
      "null accuracy: 83.33%\n",
      "accuracy score: 85.43%\n",
      "model is 2.10% more accurate than null accuracy\n",
      "--------------------------------------------------------------------------------\n",
      "Validation result for 22000 features\n",
      "null accuracy: 83.33%\n",
      "accuracy score: 85.27%\n",
      "model is 1.94% more accurate than null accuracy\n",
      "--------------------------------------------------------------------------------\n",
      "Validation result for 27000 features\n",
      "null accuracy: 83.33%\n",
      "accuracy score: 85.27%\n",
      "model is 1.94% more accurate than null accuracy\n",
      "--------------------------------------------------------------------------------\n",
      "Validation result for 32000 features\n",
      "null accuracy: 83.33%\n",
      "accuracy score: 85.27%\n",
      "model is 1.94% more accurate than null accuracy\n",
      "--------------------------------------------------------------------------------\n",
      "Validation result for 37000 features\n",
      "null accuracy: 83.33%\n",
      "accuracy score: 85.27%\n",
      "model is 1.94% more accurate than null accuracy\n",
      "--------------------------------------------------------------------------------\n",
      "Validation result for 42000 features\n",
      "null accuracy: 83.33%\n",
      "accuracy score: 85.27%\n",
      "model is 1.94% more accurate than null accuracy\n",
      "--------------------------------------------------------------------------------\n",
      "Validation result for 47000 features\n",
      "null accuracy: 83.33%\n",
      "accuracy score: 85.27%\n",
      "model is 1.94% more accurate than null accuracy\n",
      "--------------------------------------------------------------------------------\n",
      "Validation result for 52000 features\n",
      "null accuracy: 83.33%\n",
      "accuracy score: 85.27%\n",
      "model is 1.94% more accurate than null accuracy\n",
      "--------------------------------------------------------------------------------\n",
      "Validation result for 57000 features\n",
      "null accuracy: 83.33%\n",
      "accuracy score: 85.27%\n",
      "model is 1.94% more accurate than null accuracy\n",
      "--------------------------------------------------------------------------------\n"
     ]
    }
   ],
   "source": [
    "nb_feature_result_ug, nb_u_checker_pipeline = nfeature_accuracy_checker(vectorizer=tvec,classifier=nb)"
   ]
  },
  {
   "cell_type": "markdown",
   "metadata": {},
   "source": [
    "### Accuracy using Tf-Idf on Multinomial Naive Bayes with **BIGRAM**"
   ]
  },
  {
   "cell_type": "code",
   "execution_count": 26,
   "metadata": {},
   "outputs": [
    {
     "name": "stdout",
     "output_type": "stream",
     "text": [
      "RESULT FOR BIGRAM WITH STOP WORDS\n",
      "\n",
      "MultinomialNB(alpha=1.0, class_prior=None, fit_prior=True)\n",
      "\n",
      "\n",
      "Validation result for 17000 features\n",
      "null accuracy: 83.33%\n",
      "accuracy score: 87.41%\n",
      "model is 4.08% more accurate than null accuracy\n",
      "--------------------------------------------------------------------------------\n",
      "Validation result for 22000 features\n",
      "null accuracy: 83.33%\n",
      "accuracy score: 86.97%\n",
      "model is 3.63% more accurate than null accuracy\n",
      "--------------------------------------------------------------------------------\n",
      "Validation result for 27000 features\n",
      "null accuracy: 83.33%\n",
      "accuracy score: 86.24%\n",
      "model is 2.91% more accurate than null accuracy\n",
      "--------------------------------------------------------------------------------\n",
      "Validation result for 32000 features\n",
      "null accuracy: 83.33%\n",
      "accuracy score: 85.96%\n",
      "model is 2.62% more accurate than null accuracy\n",
      "--------------------------------------------------------------------------------\n",
      "Validation result for 37000 features\n",
      "null accuracy: 83.33%\n",
      "accuracy score: 85.96%\n",
      "model is 2.62% more accurate than null accuracy\n",
      "--------------------------------------------------------------------------------\n",
      "Validation result for 42000 features\n",
      "null accuracy: 83.33%\n",
      "accuracy score: 85.96%\n",
      "model is 2.62% more accurate than null accuracy\n",
      "--------------------------------------------------------------------------------\n",
      "Validation result for 47000 features\n",
      "null accuracy: 83.33%\n",
      "accuracy score: 85.96%\n",
      "model is 2.62% more accurate than null accuracy\n",
      "--------------------------------------------------------------------------------\n",
      "Validation result for 52000 features\n",
      "null accuracy: 83.33%\n",
      "accuracy score: 85.96%\n",
      "model is 2.62% more accurate than null accuracy\n",
      "--------------------------------------------------------------------------------\n",
      "Validation result for 57000 features\n",
      "null accuracy: 83.33%\n",
      "accuracy score: 85.96%\n",
      "model is 2.62% more accurate than null accuracy\n",
      "--------------------------------------------------------------------------------\n"
     ]
    }
   ],
   "source": [
    "print (\"RESULT FOR BIGRAM WITH STOP WORDS\\n\")\n",
    "nb_feature_result_bg, nb_b_checker_pipeline = nfeature_accuracy_checker(vectorizer=tvec,classifier=nb,min_df=2,ngram_range=(1, 2))"
   ]
  },
  {
   "cell_type": "markdown",
   "metadata": {},
   "source": [
    "### Accuracy using Tf-Idf on Multinomial Naive Bayes with **TRIGRAM**"
   ]
  },
  {
   "cell_type": "code",
   "execution_count": 27,
   "metadata": {},
   "outputs": [
    {
     "name": "stdout",
     "output_type": "stream",
     "text": [
      "RESULT FOR TRIGRAM WITH STOP WORDS\n",
      "\n",
      "MultinomialNB(alpha=1.0, class_prior=None, fit_prior=True)\n",
      "\n",
      "\n",
      "Validation result for 17000 features\n",
      "null accuracy: 83.33%\n",
      "accuracy score: 87.33%\n",
      "model is 4.00% more accurate than null accuracy\n",
      "--------------------------------------------------------------------------------\n",
      "Validation result for 22000 features\n",
      "null accuracy: 83.33%\n",
      "accuracy score: 86.92%\n",
      "model is 3.59% more accurate than null accuracy\n",
      "--------------------------------------------------------------------------------\n",
      "Validation result for 27000 features\n",
      "null accuracy: 83.33%\n",
      "accuracy score: 86.52%\n",
      "model is 3.19% more accurate than null accuracy\n",
      "--------------------------------------------------------------------------------\n",
      "Validation result for 32000 features\n",
      "null accuracy: 83.33%\n",
      "accuracy score: 86.24%\n",
      "model is 2.91% more accurate than null accuracy\n",
      "--------------------------------------------------------------------------------\n",
      "Validation result for 37000 features\n",
      "null accuracy: 83.33%\n",
      "accuracy score: 85.79%\n",
      "model is 2.46% more accurate than null accuracy\n",
      "--------------------------------------------------------------------------------\n",
      "Validation result for 42000 features\n",
      "null accuracy: 83.33%\n",
      "accuracy score: 85.67%\n",
      "model is 2.34% more accurate than null accuracy\n",
      "--------------------------------------------------------------------------------\n",
      "Validation result for 47000 features\n",
      "null accuracy: 83.33%\n",
      "accuracy score: 85.59%\n",
      "model is 2.26% more accurate than null accuracy\n",
      "--------------------------------------------------------------------------------\n",
      "Validation result for 52000 features\n",
      "null accuracy: 83.33%\n",
      "accuracy score: 85.59%\n",
      "model is 2.26% more accurate than null accuracy\n",
      "--------------------------------------------------------------------------------\n",
      "Validation result for 57000 features\n",
      "null accuracy: 83.33%\n",
      "accuracy score: 85.59%\n",
      "model is 2.26% more accurate than null accuracy\n",
      "--------------------------------------------------------------------------------\n"
     ]
    }
   ],
   "source": [
    "print (\"RESULT FOR TRIGRAM WITH STOP WORDS\\n\")\n",
    "nb_feature_result_tg, nb_t_checker_pipeline = nfeature_accuracy_checker(vectorizer=tvec,classifier=nb,min_df=2,ngram_range=(1, 3))"
   ]
  },
  {
   "cell_type": "markdown",
   "metadata": {},
   "source": [
    "### Accuracy using Tf-Idf on Logistic Regression with **UNIGRAM**"
   ]
  },
  {
   "cell_type": "code",
   "execution_count": 28,
   "metadata": {},
   "outputs": [
    {
     "name": "stdout",
     "output_type": "stream",
     "text": [
      "RESULT FOR UNIGRAM WITH STOP WORDS\n",
      "\n",
      "LogisticRegression(C=1.0, class_weight=None, dual=False, fit_intercept=True,\n",
      "                   intercept_scaling=1, l1_ratio=None, max_iter=100,\n",
      "                   multi_class='warn', n_jobs=None, penalty='l2',\n",
      "                   random_state=None, solver='warn', tol=0.0001, verbose=0,\n",
      "                   warm_start=False)\n",
      "\n",
      "\n",
      "Validation result for 17000 features\n",
      "null accuracy: 83.33%\n",
      "accuracy score: 94.15%\n",
      "model is 10.82% more accurate than null accuracy\n",
      "--------------------------------------------------------------------------------\n",
      "Validation result for 22000 features\n",
      "null accuracy: 83.33%\n",
      "accuracy score: 94.11%\n",
      "model is 10.77% more accurate than null accuracy\n",
      "--------------------------------------------------------------------------------\n",
      "Validation result for 27000 features\n",
      "null accuracy: 83.33%\n",
      "accuracy score: 94.11%\n",
      "model is 10.77% more accurate than null accuracy\n",
      "--------------------------------------------------------------------------------\n",
      "Validation result for 32000 features\n",
      "null accuracy: 83.33%\n",
      "accuracy score: 94.11%\n",
      "model is 10.77% more accurate than null accuracy\n",
      "--------------------------------------------------------------------------------\n",
      "Validation result for 37000 features\n",
      "null accuracy: 83.33%\n",
      "accuracy score: 94.11%\n",
      "model is 10.77% more accurate than null accuracy\n",
      "--------------------------------------------------------------------------------\n",
      "Validation result for 42000 features\n",
      "null accuracy: 83.33%\n",
      "accuracy score: 94.11%\n",
      "model is 10.77% more accurate than null accuracy\n",
      "--------------------------------------------------------------------------------\n",
      "Validation result for 47000 features\n",
      "null accuracy: 83.33%\n",
      "accuracy score: 94.11%\n",
      "model is 10.77% more accurate than null accuracy\n",
      "--------------------------------------------------------------------------------\n",
      "Validation result for 52000 features\n",
      "null accuracy: 83.33%\n",
      "accuracy score: 94.11%\n",
      "model is 10.77% more accurate than null accuracy\n",
      "--------------------------------------------------------------------------------\n",
      "Validation result for 57000 features\n",
      "null accuracy: 83.33%\n",
      "accuracy score: 94.11%\n",
      "model is 10.77% more accurate than null accuracy\n",
      "--------------------------------------------------------------------------------\n"
     ]
    }
   ],
   "source": [
    "import warnings\n",
    "warnings.filterwarnings(\"ignore\")\n",
    "\n",
    "print (\"RESULT FOR UNIGRAM WITH STOP WORDS\\n\")\n",
    "feature_result_ug, u_checker_pipeline = nfeature_accuracy_checker(vectorizer=tvec,classifier=lr)"
   ]
  },
  {
   "cell_type": "markdown",
   "metadata": {},
   "source": [
    "### Accuracy using Tf-Idf on Logistic Regression with **BIGRAM**"
   ]
  },
  {
   "cell_type": "code",
   "execution_count": 29,
   "metadata": {},
   "outputs": [
    {
     "name": "stdout",
     "output_type": "stream",
     "text": [
      "RESULT FOR BIGRAM WITH STOP WORDS\n",
      "\n",
      "LogisticRegression(C=1.0, class_weight=None, dual=False, fit_intercept=True,\n",
      "                   intercept_scaling=1, l1_ratio=None, max_iter=100,\n",
      "                   multi_class='warn', n_jobs=None, penalty='l2',\n",
      "                   random_state=None, solver='warn', tol=0.0001, verbose=0,\n",
      "                   warm_start=False)\n",
      "\n",
      "\n",
      "Validation result for 17000 features\n",
      "null accuracy: 83.33%\n",
      "accuracy score: 93.30%\n",
      "model is 9.97% more accurate than null accuracy\n",
      "--------------------------------------------------------------------------------\n",
      "Validation result for 22000 features\n",
      "null accuracy: 83.33%\n",
      "accuracy score: 93.06%\n",
      "model is 9.73% more accurate than null accuracy\n",
      "--------------------------------------------------------------------------------\n",
      "Validation result for 27000 features\n",
      "null accuracy: 83.33%\n",
      "accuracy score: 92.82%\n",
      "model is 9.48% more accurate than null accuracy\n",
      "--------------------------------------------------------------------------------\n",
      "Validation result for 32000 features\n",
      "null accuracy: 83.33%\n",
      "accuracy score: 92.98%\n",
      "model is 9.64% more accurate than null accuracy\n",
      "--------------------------------------------------------------------------------\n",
      "Validation result for 37000 features\n",
      "null accuracy: 83.33%\n",
      "accuracy score: 92.98%\n",
      "model is 9.64% more accurate than null accuracy\n",
      "--------------------------------------------------------------------------------\n",
      "Validation result for 42000 features\n",
      "null accuracy: 83.33%\n",
      "accuracy score: 92.98%\n",
      "model is 9.64% more accurate than null accuracy\n",
      "--------------------------------------------------------------------------------\n",
      "Validation result for 47000 features\n",
      "null accuracy: 83.33%\n",
      "accuracy score: 92.98%\n",
      "model is 9.64% more accurate than null accuracy\n",
      "--------------------------------------------------------------------------------\n",
      "Validation result for 52000 features\n",
      "null accuracy: 83.33%\n",
      "accuracy score: 92.98%\n",
      "model is 9.64% more accurate than null accuracy\n",
      "--------------------------------------------------------------------------------\n",
      "Validation result for 57000 features\n",
      "null accuracy: 83.33%\n",
      "accuracy score: 92.98%\n",
      "model is 9.64% more accurate than null accuracy\n",
      "--------------------------------------------------------------------------------\n"
     ]
    }
   ],
   "source": [
    "print (\"RESULT FOR BIGRAM WITH STOP WORDS\\n\")\n",
    "feature_result_bg, b_checker_pipeline = nfeature_accuracy_checker(min_df=2,vectorizer=tvec,ngram_range=(1, 2))"
   ]
  },
  {
   "cell_type": "markdown",
   "metadata": {},
   "source": [
    "### Accuracy using Tf-Idf on Logistic Regression with **TRIGRAM**"
   ]
  },
  {
   "cell_type": "code",
   "execution_count": 30,
   "metadata": {},
   "outputs": [
    {
     "name": "stdout",
     "output_type": "stream",
     "text": [
      "RESULT FOR TRIGRAM WITH STOP WORDS\n",
      "\n",
      "LogisticRegression(C=1.0, class_weight=None, dual=False, fit_intercept=True,\n",
      "                   intercept_scaling=1, l1_ratio=None, max_iter=100,\n",
      "                   multi_class='warn', n_jobs=None, penalty='l2',\n",
      "                   random_state=None, solver='warn', tol=0.0001, verbose=0,\n",
      "                   warm_start=False)\n",
      "\n",
      "\n",
      "Validation result for 17000 features\n",
      "null accuracy: 83.33%\n",
      "accuracy score: 93.26%\n",
      "model is 9.93% more accurate than null accuracy\n",
      "--------------------------------------------------------------------------------\n",
      "Validation result for 22000 features\n",
      "null accuracy: 83.33%\n",
      "accuracy score: 93.02%\n",
      "model is 9.69% more accurate than null accuracy\n",
      "--------------------------------------------------------------------------------\n",
      "Validation result for 27000 features\n",
      "null accuracy: 83.33%\n",
      "accuracy score: 92.98%\n",
      "model is 9.64% more accurate than null accuracy\n",
      "--------------------------------------------------------------------------------\n",
      "Validation result for 32000 features\n",
      "null accuracy: 83.33%\n",
      "accuracy score: 92.90%\n",
      "model is 9.56% more accurate than null accuracy\n",
      "--------------------------------------------------------------------------------\n",
      "Validation result for 37000 features\n",
      "null accuracy: 83.33%\n",
      "accuracy score: 92.78%\n",
      "model is 9.44% more accurate than null accuracy\n",
      "--------------------------------------------------------------------------------\n",
      "Validation result for 42000 features\n",
      "null accuracy: 83.33%\n",
      "accuracy score: 92.62%\n",
      "model is 9.28% more accurate than null accuracy\n",
      "--------------------------------------------------------------------------------\n",
      "Validation result for 47000 features\n",
      "null accuracy: 83.33%\n",
      "accuracy score: 92.62%\n",
      "model is 9.28% more accurate than null accuracy\n",
      "--------------------------------------------------------------------------------\n",
      "Validation result for 52000 features\n",
      "null accuracy: 83.33%\n",
      "accuracy score: 92.62%\n",
      "model is 9.28% more accurate than null accuracy\n",
      "--------------------------------------------------------------------------------\n",
      "Validation result for 57000 features\n",
      "null accuracy: 83.33%\n",
      "accuracy score: 92.62%\n",
      "model is 9.28% more accurate than null accuracy\n",
      "--------------------------------------------------------------------------------\n"
     ]
    }
   ],
   "source": [
    "print (\"RESULT FOR TRIGRAM WITH STOP WORDS\\n\")\n",
    "feature_result_tg, t_checker_pipeline = nfeature_accuracy_checker(min_df=2,vectorizer=tvec,ngram_range=(1, 3))"
   ]
  },
  {
   "cell_type": "markdown",
   "metadata": {},
   "source": [
    "### Accuracy Comparision on different model through ngram range"
   ]
  },
  {
   "cell_type": "code",
   "execution_count": 31,
   "metadata": {},
   "outputs": [
    {
     "data": {
      "text/plain": [
       "<matplotlib.legend.Legend at 0x1a2e2866d8>"
      ]
     },
     "execution_count": 31,
     "metadata": {},
     "output_type": "execute_result"
    },
    {
     "data": {
      "image/png": "[encoded data removed]",
      "text/plain": [
       "<Figure size 864x720 with 1 Axes>"
      ]
     },
     "metadata": {
      "needs_background": "light"
     },
     "output_type": "display_data"
    }
   ],
   "source": [
    "nfeatures_plot_tg = pd.DataFrame(feature_result_tg,columns=['nfeatures','validation_accuracy'])\n",
    "nfeatures_plot_bg = pd.DataFrame(feature_result_bg,columns=['nfeatures','validation_accuracy'])\n",
    "nfeatures_plot_ug = pd.DataFrame(feature_result_ug,columns=['nfeatures','validation_accuracy'])\n",
    "svc_nfeatures_plot_tg = pd.DataFrame(svc_feature_result_tg,columns=['nfeatures','validation_accuracy'])\n",
    "svc_nfeatures_plot_bg = pd.DataFrame(svc_feature_result_bg,columns=['nfeatures','validation_accuracy'])\n",
    "svc_nfeatures_plot_ug = pd.DataFrame(svc_feature_result_ug,columns=['nfeatures','validation_accuracy'])\n",
    "nb_nfeatures_plot_tg = pd.DataFrame(nb_feature_result_tg,columns=['nfeatures','validation_accuracy'])\n",
    "nb_nfeatures_plot_bg = pd.DataFrame(nb_feature_result_bg,columns=['nfeatures','validation_accuracy'])\n",
    "nb_nfeatures_plot_ug = pd.DataFrame(nb_feature_result_ug,columns=['nfeatures','validation_accuracy'])\n",
    "\n",
    "plt.figure(figsize=(12,10))\n",
    "plt.plot(nfeatures_plot_tg.nfeatures, nfeatures_plot_tg.validation_accuracy,label='lr_trigram')\n",
    "plt.plot(nfeatures_plot_bg.nfeatures, nfeatures_plot_bg.validation_accuracy,label='lr_bigram')\n",
    "plt.plot(nfeatures_plot_ug.nfeatures, nfeatures_plot_ug.validation_accuracy, label='lr_unigram')\n",
    "plt.plot(svc_nfeatures_plot_tg.nfeatures, svc_nfeatures_plot_tg.validation_accuracy,label='svc_trigram')\n",
    "plt.plot(svc_nfeatures_plot_bg.nfeatures, svc_nfeatures_plot_bg.validation_accuracy,label='svc_bigram')\n",
    "plt.plot(svc_nfeatures_plot_ug.nfeatures, svc_nfeatures_plot_ug.validation_accuracy, label='svc_unigram')\n",
    "plt.plot(nb_nfeatures_plot_tg.nfeatures, nb_nfeatures_plot_tg.validation_accuracy,label='nb_trigram')\n",
    "plt.plot(nb_nfeatures_plot_bg.nfeatures, nb_nfeatures_plot_bg.validation_accuracy,label='nb_bigram')\n",
    "plt.plot(nb_nfeatures_plot_ug.nfeatures, nb_nfeatures_plot_ug.validation_accuracy, label='nb_unigram')\n",
    "\n",
    "plt.title(\"N-gram(1~3) test result : Accuracy\")\n",
    "\n",
    "plt.xlabel(\"Number of features\")\n",
    "plt.ylabel(\"Validation set accuracy\")\n",
    "plt.legend()"
   ]
  },
  {
   "cell_type": "markdown",
   "metadata": {},
   "source": [
    "### LOGISTIC REGRESSION W.R.T REGULARIZATION PARAMETER C AND VARIOUS OPTIMIZATION ALGORITHMS (SOLVERS)FOR THE FEATURES: N-GRAM RANGE 1-3 AND TFIDF NORMALIZATION L2"
   ]
  },
  {
   "cell_type": "code",
   "execution_count": 32,
   "metadata": {},
   "outputs": [],
   "source": [
    "cvec = CountVectorizer()\n",
    "lr = LogisticRegression()\n",
    "stop_words = (stopwords.words('english'))\n",
    "tvec = TfidfVectorizer()\n",
    "n_features = np.arange(17000,60000,5000)\n",
    "# helper function - accuracy checker for n features\n",
    "def nfeature_accuracy_checker(vectorizer=cvec, min_df=1,n_features=n_features, stop_words=stop_words, ngram_range=(1, 3), classifier=lr\n",
    "):\n",
    "    result = []\n",
    "    print (classifier)\n",
    "    print (\"\\n\")\n",
    "    for n in n_features:\n",
    "        vectorizer.set_params(min_df=min_df,stop_words=stop_words, max_features=n, ngram_range=ngram_range)\n",
    "        checker_pipeline = Pipeline([('vectorizer', vectorizer),('classifier', classifier)])\n",
    "        print (\"Validation result for {} features\".format(n))\n",
    "        nfeature_accuracy = accuracy_summary(checker_pipeline, x_train, y_train, x_validation, y_validation)\n",
    "        result.append((n,nfeature_accuracy))\n",
    "    return result, checker_pipeline"
   ]
  },
  {
   "cell_type": "markdown",
   "metadata": {},
   "source": [
    "#### C=10.0, Solver='liblinear'"
   ]
  },
  {
   "cell_type": "code",
   "execution_count": 33,
   "metadata": {},
   "outputs": [
    {
     "name": "stdout",
     "output_type": "stream",
     "text": [
      "RESULT FOR UNIGRAM WITH STOP WORDS\n",
      "\n",
      "LogisticRegression(C=10.0, class_weight=None, dual=False, fit_intercept=True,\n",
      "                   intercept_scaling=1, l1_ratio=None, max_iter=100,\n",
      "                   multi_class='warn', n_jobs=None, penalty='l2',\n",
      "                   random_state=None, solver='liblinear', tol=0.0001, verbose=0,\n",
      "                   warm_start=False)\n",
      "\n",
      "\n",
      "Validation result for 17000 features\n",
      "null accuracy: 83.33%\n",
      "accuracy score: 95.20%\n",
      "model is 11.86% more accurate than null accuracy\n",
      "--------------------------------------------------------------------------------\n",
      "Validation result for 22000 features\n",
      "null accuracy: 83.33%\n",
      "accuracy score: 95.08%\n",
      "model is 11.74% more accurate than null accuracy\n",
      "--------------------------------------------------------------------------------\n",
      "Validation result for 27000 features\n",
      "null accuracy: 83.33%\n",
      "accuracy score: 95.04%\n",
      "model is 11.70% more accurate than null accuracy\n",
      "--------------------------------------------------------------------------------\n",
      "Validation result for 32000 features\n",
      "null accuracy: 83.33%\n",
      "accuracy score: 95.04%\n",
      "model is 11.70% more accurate than null accuracy\n",
      "--------------------------------------------------------------------------------\n",
      "Validation result for 37000 features\n",
      "null accuracy: 83.33%\n",
      "accuracy score: 94.96%\n",
      "model is 11.62% more accurate than null accuracy\n",
      "--------------------------------------------------------------------------------\n",
      "Validation result for 42000 features\n",
      "null accuracy: 83.33%\n",
      "accuracy score: 95.04%\n",
      "model is 11.70% more accurate than null accuracy\n",
      "--------------------------------------------------------------------------------\n",
      "Validation result for 47000 features\n",
      "null accuracy: 83.33%\n",
      "accuracy score: 95.00%\n",
      "model is 11.66% more accurate than null accuracy\n",
      "--------------------------------------------------------------------------------\n",
      "Validation result for 52000 features\n",
      "null accuracy: 83.33%\n",
      "accuracy score: 94.96%\n",
      "model is 11.62% more accurate than null accuracy\n",
      "--------------------------------------------------------------------------------\n",
      "Validation result for 57000 features\n",
      "null accuracy: 83.33%\n",
      "accuracy score: 95.00%\n",
      "model is 11.66% more accurate than null accuracy\n",
      "--------------------------------------------------------------------------------\n"
     ]
    }
   ],
   "source": [
    "import warnings\n",
    "warnings.filterwarnings(\"ignore\")\n",
    "\n",
    "print (\"RESULT FOR UNIGRAM WITH STOP WORDS\\n\")\n",
    "feature_result_ug, u_checker_pipeline = nfeature_accuracy_checker(vectorizer=tvec,classifier=LogisticRegression(C=10.0,solver='liblinear'))"
   ]
  },
  {
   "cell_type": "markdown",
   "metadata": {},
   "source": [
    "#### C=10.0, Solver='newton-cg'"
   ]
  },
  {
   "cell_type": "code",
   "execution_count": 34,
   "metadata": {},
   "outputs": [
    {
     "name": "stdout",
     "output_type": "stream",
     "text": [
      "RESULT FOR UNIGRAM WITH STOP WORDS\n",
      "\n",
      "LogisticRegression(C=10.0, class_weight=None, dual=False, fit_intercept=True,\n",
      "                   intercept_scaling=1, l1_ratio=None, max_iter=100,\n",
      "                   multi_class='warn', n_jobs=None, penalty='l2',\n",
      "                   random_state=None, solver='newton-cg', tol=0.0001, verbose=0,\n",
      "                   warm_start=False)\n",
      "\n",
      "\n",
      "Validation result for 17000 features\n",
      "null accuracy: 83.33%\n",
      "accuracy score: 95.20%\n",
      "model is 11.86% more accurate than null accuracy\n",
      "--------------------------------------------------------------------------------\n",
      "Validation result for 22000 features\n",
      "null accuracy: 83.33%\n",
      "accuracy score: 95.08%\n",
      "model is 11.74% more accurate than null accuracy\n",
      "--------------------------------------------------------------------------------\n",
      "Validation result for 27000 features\n",
      "null accuracy: 83.33%\n",
      "accuracy score: 95.04%\n",
      "model is 11.70% more accurate than null accuracy\n",
      "--------------------------------------------------------------------------------\n",
      "Validation result for 32000 features\n",
      "null accuracy: 83.33%\n",
      "accuracy score: 95.00%\n",
      "model is 11.66% more accurate than null accuracy\n",
      "--------------------------------------------------------------------------------\n",
      "Validation result for 37000 features\n",
      "null accuracy: 83.33%\n",
      "accuracy score: 94.96%\n",
      "model is 11.62% more accurate than null accuracy\n",
      "--------------------------------------------------------------------------------\n",
      "Validation result for 42000 features\n",
      "null accuracy: 83.33%\n",
      "accuracy score: 95.00%\n",
      "model is 11.66% more accurate than null accuracy\n",
      "--------------------------------------------------------------------------------\n",
      "Validation result for 47000 features\n",
      "null accuracy: 83.33%\n",
      "accuracy score: 95.00%\n",
      "model is 11.66% more accurate than null accuracy\n",
      "--------------------------------------------------------------------------------\n",
      "Validation result for 52000 features\n",
      "null accuracy: 83.33%\n",
      "accuracy score: 94.96%\n",
      "model is 11.62% more accurate than null accuracy\n",
      "--------------------------------------------------------------------------------\n",
      "Validation result for 57000 features\n",
      "null accuracy: 83.33%\n",
      "accuracy score: 95.00%\n",
      "model is 11.66% more accurate than null accuracy\n",
      "--------------------------------------------------------------------------------\n"
     ]
    }
   ],
   "source": [
    "import warnings\n",
    "warnings.filterwarnings(\"ignore\")\n",
    "\n",
    "print (\"RESULT FOR UNIGRAM WITH STOP WORDS\\n\")\n",
    "feature_result_ug, u_checker_pipeline = nfeature_accuracy_checker(vectorizer=tvec,classifier=LogisticRegression(C=10.0,solver='newton-cg'))"
   ]
  },
  {
   "cell_type": "markdown",
   "metadata": {},
   "source": [
    "#### C=10.0, Solver='saga'"
   ]
  },
  {
   "cell_type": "code",
   "execution_count": 35,
   "metadata": {},
   "outputs": [
    {
     "name": "stdout",
     "output_type": "stream",
     "text": [
      "RESULT FOR UNIGRAM WITH STOP WORDS\n",
      "\n",
      "LogisticRegression(C=10.0, class_weight=None, dual=False, fit_intercept=True,\n",
      "                   intercept_scaling=1, l1_ratio=None, max_iter=100,\n",
      "                   multi_class='warn', n_jobs=None, penalty='l2',\n",
      "                   random_state=None, solver='saga', tol=0.0001, verbose=0,\n",
      "                   warm_start=False)\n",
      "\n",
      "\n",
      "Validation result for 17000 features\n",
      "null accuracy: 83.33%\n",
      "accuracy score: 95.20%\n",
      "model is 11.86% more accurate than null accuracy\n",
      "--------------------------------------------------------------------------------\n",
      "Validation result for 22000 features\n",
      "null accuracy: 83.33%\n",
      "accuracy score: 95.08%\n",
      "model is 11.74% more accurate than null accuracy\n",
      "--------------------------------------------------------------------------------\n",
      "Validation result for 27000 features\n",
      "null accuracy: 83.33%\n",
      "accuracy score: 95.04%\n",
      "model is 11.70% more accurate than null accuracy\n",
      "--------------------------------------------------------------------------------\n",
      "Validation result for 32000 features\n",
      "null accuracy: 83.33%\n",
      "accuracy score: 95.00%\n",
      "model is 11.66% more accurate than null accuracy\n",
      "--------------------------------------------------------------------------------\n",
      "Validation result for 37000 features\n",
      "null accuracy: 83.33%\n",
      "accuracy score: 95.00%\n",
      "model is 11.66% more accurate than null accuracy\n",
      "--------------------------------------------------------------------------------\n",
      "Validation result for 42000 features\n",
      "null accuracy: 83.33%\n",
      "accuracy score: 95.00%\n",
      "model is 11.66% more accurate than null accuracy\n",
      "--------------------------------------------------------------------------------\n",
      "Validation result for 47000 features\n",
      "null accuracy: 83.33%\n",
      "accuracy score: 95.00%\n",
      "model is 11.66% more accurate than null accuracy\n",
      "--------------------------------------------------------------------------------\n",
      "Validation result for 52000 features\n",
      "null accuracy: 83.33%\n",
      "accuracy score: 94.96%\n",
      "model is 11.62% more accurate than null accuracy\n",
      "--------------------------------------------------------------------------------\n",
      "Validation result for 57000 features\n",
      "null accuracy: 83.33%\n",
      "accuracy score: 95.00%\n",
      "model is 11.66% more accurate than null accuracy\n",
      "--------------------------------------------------------------------------------\n"
     ]
    }
   ],
   "source": [
    "import warnings\n",
    "warnings.filterwarnings(\"ignore\")\n",
    "\n",
    "print (\"RESULT FOR UNIGRAM WITH STOP WORDS\\n\")\n",
    "feature_result_ug, u_checker_pipeline = nfeature_accuracy_checker(vectorizer=tvec,classifier=LogisticRegression(C=10.0,solver='saga'))"
   ]
  },
  {
   "cell_type": "markdown",
   "metadata": {},
   "source": [
    "#### C=100.0, Solver='liblinear'"
   ]
  },
  {
   "cell_type": "code",
   "execution_count": 36,
   "metadata": {},
   "outputs": [
    {
     "name": "stdout",
     "output_type": "stream",
     "text": [
      "RESULT FOR UNIGRAM WITH STOP WORDS\n",
      "\n",
      "LogisticRegression(C=100.0, class_weight=None, dual=False, fit_intercept=True,\n",
      "                   intercept_scaling=1, l1_ratio=None, max_iter=100,\n",
      "                   multi_class='warn', n_jobs=None, penalty='l2',\n",
      "                   random_state=None, solver='liblinear', tol=0.0001, verbose=0,\n",
      "                   warm_start=False)\n",
      "\n",
      "\n",
      "Validation result for 17000 features\n",
      "null accuracy: 83.33%\n",
      "accuracy score: 94.79%\n",
      "model is 11.46% more accurate than null accuracy\n",
      "--------------------------------------------------------------------------------\n",
      "Validation result for 22000 features\n",
      "null accuracy: 83.33%\n",
      "accuracy score: 94.83%\n",
      "model is 11.50% more accurate than null accuracy\n",
      "--------------------------------------------------------------------------------\n",
      "Validation result for 27000 features\n",
      "null accuracy: 83.33%\n",
      "accuracy score: 94.92%\n",
      "model is 11.58% more accurate than null accuracy\n",
      "--------------------------------------------------------------------------------\n",
      "Validation result for 32000 features\n",
      "null accuracy: 83.33%\n",
      "accuracy score: 94.83%\n",
      "model is 11.50% more accurate than null accuracy\n",
      "--------------------------------------------------------------------------------\n",
      "Validation result for 37000 features\n",
      "null accuracy: 83.33%\n",
      "accuracy score: 94.83%\n",
      "model is 11.50% more accurate than null accuracy\n",
      "--------------------------------------------------------------------------------\n",
      "Validation result for 42000 features\n",
      "null accuracy: 83.33%\n",
      "accuracy score: 94.87%\n",
      "model is 11.54% more accurate than null accuracy\n",
      "--------------------------------------------------------------------------------\n",
      "Validation result for 47000 features\n",
      "null accuracy: 83.33%\n",
      "accuracy score: 95.04%\n",
      "model is 11.70% more accurate than null accuracy\n",
      "--------------------------------------------------------------------------------\n",
      "Validation result for 52000 features\n",
      "null accuracy: 83.33%\n",
      "accuracy score: 94.92%\n",
      "model is 11.58% more accurate than null accuracy\n",
      "--------------------------------------------------------------------------------\n",
      "Validation result for 57000 features\n",
      "null accuracy: 83.33%\n",
      "accuracy score: 95.00%\n",
      "model is 11.66% more accurate than null accuracy\n",
      "--------------------------------------------------------------------------------\n"
     ]
    }
   ],
   "source": [
    "import warnings\n",
    "warnings.filterwarnings(\"ignore\")\n",
    "\n",
    "print (\"RESULT FOR UNIGRAM WITH STOP WORDS\\n\")\n",
    "feature_result_ug, u_checker_pipeline = nfeature_accuracy_checker(vectorizer=tvec,classifier=LogisticRegression(C=100.0,solver='liblinear'))"
   ]
  },
  {
   "cell_type": "markdown",
   "metadata": {},
   "source": [
    "#### C=100.0, Solver='newton-cg'"
   ]
  },
  {
   "cell_type": "code",
   "execution_count": 37,
   "metadata": {},
   "outputs": [
    {
     "name": "stdout",
     "output_type": "stream",
     "text": [
      "RESULT FOR UNIGRAM WITH STOP WORDS\n",
      "\n",
      "LogisticRegression(C=100.0, class_weight=None, dual=False, fit_intercept=True,\n",
      "                   intercept_scaling=1, l1_ratio=None, max_iter=100,\n",
      "                   multi_class='warn', n_jobs=None, penalty='l2',\n",
      "                   random_state=None, solver='newton-cg', tol=0.0001, verbose=0,\n",
      "                   warm_start=False)\n",
      "\n",
      "\n",
      "Validation result for 17000 features\n",
      "null accuracy: 83.33%\n",
      "accuracy score: 94.79%\n",
      "model is 11.46% more accurate than null accuracy\n",
      "--------------------------------------------------------------------------------\n",
      "Validation result for 22000 features\n",
      "null accuracy: 83.33%\n",
      "accuracy score: 94.87%\n",
      "model is 11.54% more accurate than null accuracy\n",
      "--------------------------------------------------------------------------------\n",
      "Validation result for 27000 features\n",
      "null accuracy: 83.33%\n",
      "accuracy score: 94.96%\n",
      "model is 11.62% more accurate than null accuracy\n",
      "--------------------------------------------------------------------------------\n",
      "Validation result for 32000 features\n",
      "null accuracy: 83.33%\n",
      "accuracy score: 94.83%\n",
      "model is 11.50% more accurate than null accuracy\n",
      "--------------------------------------------------------------------------------\n",
      "Validation result for 37000 features\n",
      "null accuracy: 83.33%\n",
      "accuracy score: 94.79%\n",
      "model is 11.46% more accurate than null accuracy\n",
      "--------------------------------------------------------------------------------\n",
      "Validation result for 42000 features\n",
      "null accuracy: 83.33%\n",
      "accuracy score: 94.87%\n",
      "model is 11.54% more accurate than null accuracy\n",
      "--------------------------------------------------------------------------------\n",
      "Validation result for 47000 features\n",
      "null accuracy: 83.33%\n",
      "accuracy score: 95.00%\n",
      "model is 11.66% more accurate than null accuracy\n",
      "--------------------------------------------------------------------------------\n",
      "Validation result for 52000 features\n",
      "null accuracy: 83.33%\n",
      "accuracy score: 94.92%\n",
      "model is 11.58% more accurate than null accuracy\n",
      "--------------------------------------------------------------------------------\n",
      "Validation result for 57000 features\n",
      "null accuracy: 83.33%\n",
      "accuracy score: 95.00%\n",
      "model is 11.66% more accurate than null accuracy\n",
      "--------------------------------------------------------------------------------\n"
     ]
    }
   ],
   "source": [
    "import warnings\n",
    "warnings.filterwarnings(\"ignore\")\n",
    "\n",
    "print (\"RESULT FOR UNIGRAM WITH STOP WORDS\\n\")\n",
    "feature_result_ug, u_checker_pipeline = nfeature_accuracy_checker(vectorizer=tvec,classifier=LogisticRegression(C=100.0,solver='newton-cg'))"
   ]
  },
  {
   "cell_type": "markdown",
   "metadata": {},
   "source": [
    "#### C=100.0, Solver='saga'"
   ]
  },
  {
   "cell_type": "code",
   "execution_count": 38,
   "metadata": {},
   "outputs": [
    {
     "name": "stdout",
     "output_type": "stream",
     "text": [
      "RESULT FOR UNIGRAM WITH STOP WORDS\n",
      "\n",
      "LogisticRegression(C=100.0, class_weight=None, dual=False, fit_intercept=True,\n",
      "                   intercept_scaling=1, l1_ratio=None, max_iter=100,\n",
      "                   multi_class='warn', n_jobs=None, penalty='l2',\n",
      "                   random_state=None, solver='saga', tol=0.0001, verbose=0,\n",
      "                   warm_start=False)\n",
      "\n",
      "\n",
      "Validation result for 17000 features\n",
      "null accuracy: 83.33%\n",
      "accuracy score: 94.87%\n",
      "model is 11.54% more accurate than null accuracy\n",
      "--------------------------------------------------------------------------------\n",
      "Validation result for 22000 features\n",
      "null accuracy: 83.33%\n",
      "accuracy score: 94.79%\n",
      "model is 11.46% more accurate than null accuracy\n",
      "--------------------------------------------------------------------------------\n",
      "Validation result for 27000 features\n",
      "null accuracy: 83.33%\n",
      "accuracy score: 94.92%\n",
      "model is 11.58% more accurate than null accuracy\n",
      "--------------------------------------------------------------------------------\n",
      "Validation result for 32000 features\n",
      "null accuracy: 83.33%\n",
      "accuracy score: 94.87%\n",
      "model is 11.54% more accurate than null accuracy\n",
      "--------------------------------------------------------------------------------\n",
      "Validation result for 37000 features\n",
      "null accuracy: 83.33%\n",
      "accuracy score: 94.87%\n",
      "model is 11.54% more accurate than null accuracy\n",
      "--------------------------------------------------------------------------------\n",
      "Validation result for 42000 features\n",
      "null accuracy: 83.33%\n",
      "accuracy score: 95.00%\n",
      "model is 11.66% more accurate than null accuracy\n",
      "--------------------------------------------------------------------------------\n",
      "Validation result for 47000 features\n",
      "null accuracy: 83.33%\n",
      "accuracy score: 95.00%\n",
      "model is 11.66% more accurate than null accuracy\n",
      "--------------------------------------------------------------------------------\n",
      "Validation result for 52000 features\n",
      "null accuracy: 83.33%\n",
      "accuracy score: 94.96%\n",
      "model is 11.62% more accurate than null accuracy\n",
      "--------------------------------------------------------------------------------\n",
      "Validation result for 57000 features\n",
      "null accuracy: 83.33%\n",
      "accuracy score: 94.96%\n",
      "model is 11.62% more accurate than null accuracy\n",
      "--------------------------------------------------------------------------------\n"
     ]
    }
   ],
   "source": [
    "import warnings\n",
    "warnings.filterwarnings(\"ignore\")\n",
    "\n",
    "print (\"RESULT FOR UNIGRAM WITH STOP WORDS\\n\")\n",
    "feature_result_ug, u_checker_pipeline = nfeature_accuracy_checker(vectorizer=tvec,classifier=LogisticRegression(C=100.0,solver='saga'))"
   ]
  },
  {
   "cell_type": "markdown",
   "metadata": {},
   "source": [
    "### RESULTS AFTER TUNING NAIVE BAYES W.R.T SMOOTHING PRIOR α FOR THE FEATURES: N-GRAM RANGE (1, 3) AND TFIDF NORMALIZATION L2"
   ]
  },
  {
   "cell_type": "code",
   "execution_count": 39,
   "metadata": {},
   "outputs": [],
   "source": [
    "\n",
    "cvec = CountVectorizer()\n",
    "nb = MultinomialNB()\n",
    "stop_words = (stopwords.words('english'))\n",
    "tvec = TfidfVectorizer()\n",
    "n_features = np.arange(17000,60000,5000)\n",
    "# helper function - accuracy checker for n features\n",
    "def nfeature_accuracy_checker(vectorizer=cvec, min_df=1,n_features=n_features, stop_words=stop_words, ngram_range=(1, 3), classifier=lr\n",
    "):\n",
    "    result = []\n",
    "    print (classifier)\n",
    "    print (\"\\n\")\n",
    "    for n in n_features:\n",
    "        vectorizer.set_params(min_df=min_df,stop_words=stop_words, max_features=n, ngram_range=ngram_range)\n",
    "        checker_pipeline = Pipeline([('vectorizer', vectorizer),('classifier', classifier)])\n",
    "        print (\"Validation result for {} features\".format(n))\n",
    "        nfeature_accuracy = accuracy_summary(checker_pipeline, x_train, y_train, x_validation, y_validation)\n",
    "        result.append((n,nfeature_accuracy))\n",
    "    return result, checker_pipeline"
   ]
  },
  {
   "cell_type": "markdown",
   "metadata": {},
   "source": [
    "#### Alpha = 0.01"
   ]
  },
  {
   "cell_type": "code",
   "execution_count": 40,
   "metadata": {},
   "outputs": [
    {
     "name": "stdout",
     "output_type": "stream",
     "text": [
      "RESULT FOR UNIGRAM WITH STOP WORDS\n",
      "\n",
      "MultinomialNB(alpha=0.01, class_prior=None, fit_prior=True)\n",
      "\n",
      "\n",
      "Validation result for 17000 features\n",
      "null accuracy: 83.33%\n",
      "accuracy score: 91.04%\n",
      "model is 7.71% more accurate than null accuracy\n",
      "--------------------------------------------------------------------------------\n",
      "Validation result for 22000 features\n",
      "null accuracy: 83.33%\n",
      "accuracy score: 90.96%\n",
      "model is 7.63% more accurate than null accuracy\n",
      "--------------------------------------------------------------------------------\n",
      "Validation result for 27000 features\n",
      "null accuracy: 83.33%\n",
      "accuracy score: 91.04%\n",
      "model is 7.71% more accurate than null accuracy\n",
      "--------------------------------------------------------------------------------\n",
      "Validation result for 32000 features\n",
      "null accuracy: 83.33%\n",
      "accuracy score: 90.84%\n",
      "model is 7.51% more accurate than null accuracy\n",
      "--------------------------------------------------------------------------------\n",
      "Validation result for 37000 features\n",
      "null accuracy: 83.33%\n",
      "accuracy score: 90.68%\n",
      "model is 7.34% more accurate than null accuracy\n",
      "--------------------------------------------------------------------------------\n",
      "Validation result for 42000 features\n",
      "null accuracy: 83.33%\n",
      "accuracy score: 90.72%\n",
      "model is 7.38% more accurate than null accuracy\n",
      "--------------------------------------------------------------------------------\n",
      "Validation result for 47000 features\n",
      "null accuracy: 83.33%\n",
      "accuracy score: 90.60%\n",
      "model is 7.26% more accurate than null accuracy\n",
      "--------------------------------------------------------------------------------\n",
      "Validation result for 52000 features\n",
      "null accuracy: 83.33%\n",
      "accuracy score: 90.56%\n",
      "model is 7.22% more accurate than null accuracy\n",
      "--------------------------------------------------------------------------------\n",
      "Validation result for 57000 features\n",
      "null accuracy: 83.33%\n",
      "accuracy score: 90.52%\n",
      "model is 7.18% more accurate than null accuracy\n",
      "--------------------------------------------------------------------------------\n"
     ]
    }
   ],
   "source": [
    "print (\"RESULT FOR UNIGRAM WITH STOP WORDS\\n\")\n",
    "nb_feature_result_ug, nb_u_checker_pipeline = nfeature_accuracy_checker(vectorizer=tvec,classifier=MultinomialNB(alpha=0.01),ngram_range=(1, 3))"
   ]
  },
  {
   "cell_type": "markdown",
   "metadata": {},
   "source": [
    "#### Alpha = 0.1"
   ]
  },
  {
   "cell_type": "code",
   "execution_count": 41,
   "metadata": {},
   "outputs": [
    {
     "name": "stdout",
     "output_type": "stream",
     "text": [
      "RESULT FOR UNIGRAM WITH STOP WORDS\n",
      "\n",
      "MultinomialNB(alpha=0.1, class_prior=None, fit_prior=True)\n",
      "\n",
      "\n",
      "Validation result for 17000 features\n",
      "null accuracy: 83.33%\n",
      "accuracy score: 90.60%\n",
      "model is 7.26% more accurate than null accuracy\n",
      "--------------------------------------------------------------------------------\n",
      "Validation result for 22000 features\n",
      "null accuracy: 83.33%\n",
      "accuracy score: 90.56%\n",
      "model is 7.22% more accurate than null accuracy\n",
      "--------------------------------------------------------------------------------\n",
      "Validation result for 27000 features\n",
      "null accuracy: 83.33%\n",
      "accuracy score: 90.68%\n",
      "model is 7.34% more accurate than null accuracy\n",
      "--------------------------------------------------------------------------------\n",
      "Validation result for 32000 features\n",
      "null accuracy: 83.33%\n",
      "accuracy score: 90.52%\n",
      "model is 7.18% more accurate than null accuracy\n",
      "--------------------------------------------------------------------------------\n",
      "Validation result for 37000 features\n",
      "null accuracy: 83.33%\n",
      "accuracy score: 90.27%\n",
      "model is 6.94% more accurate than null accuracy\n",
      "--------------------------------------------------------------------------------\n",
      "Validation result for 42000 features\n",
      "null accuracy: 83.33%\n",
      "accuracy score: 90.40%\n",
      "model is 7.06% more accurate than null accuracy\n",
      "--------------------------------------------------------------------------------\n",
      "Validation result for 47000 features\n",
      "null accuracy: 83.33%\n",
      "accuracy score: 90.31%\n",
      "model is 6.98% more accurate than null accuracy\n",
      "--------------------------------------------------------------------------------\n",
      "Validation result for 52000 features\n",
      "null accuracy: 83.33%\n",
      "accuracy score: 90.19%\n",
      "model is 6.86% more accurate than null accuracy\n",
      "--------------------------------------------------------------------------------\n",
      "Validation result for 57000 features\n",
      "null accuracy: 83.33%\n",
      "accuracy score: 89.99%\n",
      "model is 6.66% more accurate than null accuracy\n",
      "--------------------------------------------------------------------------------\n"
     ]
    }
   ],
   "source": [
    "print (\"RESULT FOR UNIGRAM WITH STOP WORDS\\n\")\n",
    "nb_feature_result_ug, nb_u_checker_pipeline = nfeature_accuracy_checker(vectorizer=tvec,classifier=MultinomialNB(alpha=0.1),ngram_range=(1, 3))"
   ]
  },
  {
   "cell_type": "markdown",
   "metadata": {},
   "source": [
    "#### Alpha = 1.0"
   ]
  },
  {
   "cell_type": "code",
   "execution_count": 42,
   "metadata": {},
   "outputs": [
    {
     "name": "stdout",
     "output_type": "stream",
     "text": [
      "RESULT FOR UNIGRAM WITH STOP WORDS\n",
      "\n",
      "MultinomialNB(alpha=1.0, class_prior=None, fit_prior=True)\n",
      "\n",
      "\n",
      "Validation result for 17000 features\n",
      "null accuracy: 83.33%\n",
      "accuracy score: 87.49%\n",
      "model is 4.16% more accurate than null accuracy\n",
      "--------------------------------------------------------------------------------\n",
      "Validation result for 22000 features\n",
      "null accuracy: 83.33%\n",
      "accuracy score: 87.29%\n",
      "model is 3.95% more accurate than null accuracy\n",
      "--------------------------------------------------------------------------------\n",
      "Validation result for 27000 features\n",
      "null accuracy: 83.33%\n",
      "accuracy score: 86.92%\n",
      "model is 3.59% more accurate than null accuracy\n",
      "--------------------------------------------------------------------------------\n",
      "Validation result for 32000 features\n",
      "null accuracy: 83.33%\n",
      "accuracy score: 86.44%\n",
      "model is 3.11% more accurate than null accuracy\n",
      "--------------------------------------------------------------------------------\n",
      "Validation result for 37000 features\n",
      "null accuracy: 83.33%\n",
      "accuracy score: 86.04%\n",
      "model is 2.70% more accurate than null accuracy\n",
      "--------------------------------------------------------------------------------\n",
      "Validation result for 42000 features\n",
      "null accuracy: 83.33%\n",
      "accuracy score: 85.75%\n",
      "model is 2.42% more accurate than null accuracy\n",
      "--------------------------------------------------------------------------------\n",
      "Validation result for 47000 features\n",
      "null accuracy: 83.33%\n",
      "accuracy score: 85.47%\n",
      "model is 2.14% more accurate than null accuracy\n",
      "--------------------------------------------------------------------------------\n",
      "Validation result for 52000 features\n",
      "null accuracy: 83.33%\n",
      "accuracy score: 85.39%\n",
      "model is 2.06% more accurate than null accuracy\n",
      "--------------------------------------------------------------------------------\n",
      "Validation result for 57000 features\n",
      "null accuracy: 83.33%\n",
      "accuracy score: 85.15%\n",
      "model is 1.82% more accurate than null accuracy\n",
      "--------------------------------------------------------------------------------\n"
     ]
    }
   ],
   "source": [
    "print (\"RESULT FOR UNIGRAM WITH STOP WORDS\\n\")\n",
    "nb_feature_result_ug, nb_u_checker_pipeline = nfeature_accuracy_checker(vectorizer=tvec,classifier=MultinomialNB(alpha=1.0),ngram_range=(1, 3))"
   ]
  },
  {
   "cell_type": "markdown",
   "metadata": {},
   "source": [
    "#### Alpha = 10.0"
   ]
  },
  {
   "cell_type": "code",
   "execution_count": 43,
   "metadata": {},
   "outputs": [
    {
     "name": "stdout",
     "output_type": "stream",
     "text": [
      "RESULT FOR UNIGRAM WITH STOP WORDS\n",
      "\n",
      "MultinomialNB(alpha=10.0, class_prior=None, fit_prior=True)\n",
      "\n",
      "\n",
      "Validation result for 17000 features\n",
      "null accuracy: 83.33%\n",
      "accuracy score: 83.41%\n",
      "model is 0.08% more accurate than null accuracy\n",
      "--------------------------------------------------------------------------------\n",
      "Validation result for 22000 features\n",
      "null accuracy: 83.33%\n",
      "accuracy score: 83.41%\n",
      "model is 0.08% more accurate than null accuracy\n",
      "--------------------------------------------------------------------------------\n",
      "Validation result for 27000 features\n",
      "null accuracy: 83.33%\n",
      "accuracy score: 83.33%\n",
      "model has the same accuracy with the null accuracy\n",
      "--------------------------------------------------------------------------------\n",
      "Validation result for 32000 features\n",
      "null accuracy: 83.33%\n",
      "accuracy score: 83.33%\n",
      "model has the same accuracy with the null accuracy\n",
      "--------------------------------------------------------------------------------\n",
      "Validation result for 37000 features\n",
      "null accuracy: 83.33%\n",
      "accuracy score: 83.33%\n",
      "model has the same accuracy with the null accuracy\n",
      "--------------------------------------------------------------------------------\n",
      "Validation result for 42000 features\n",
      "null accuracy: 83.33%\n",
      "accuracy score: 83.33%\n",
      "model has the same accuracy with the null accuracy\n",
      "--------------------------------------------------------------------------------\n",
      "Validation result for 47000 features\n",
      "null accuracy: 83.33%\n",
      "accuracy score: 83.33%\n",
      "model has the same accuracy with the null accuracy\n",
      "--------------------------------------------------------------------------------\n",
      "Validation result for 52000 features\n",
      "null accuracy: 83.33%\n",
      "accuracy score: 83.33%\n",
      "model has the same accuracy with the null accuracy\n",
      "--------------------------------------------------------------------------------\n",
      "Validation result for 57000 features\n",
      "null accuracy: 83.33%\n",
      "accuracy score: 83.33%\n",
      "model has the same accuracy with the null accuracy\n",
      "--------------------------------------------------------------------------------\n"
     ]
    }
   ],
   "source": [
    "print (\"RESULT FOR UNIGRAM WITH STOP WORDS\\n\")\n",
    "nb_feature_result_ug, nb_u_checker_pipeline = nfeature_accuracy_checker(vectorizer=tvec,classifier=MultinomialNB(alpha=10.0),ngram_range=(1, 3))"
   ]
  },
  {
   "cell_type": "markdown",
   "metadata": {},
   "source": [
    "### Performance Comparision on accuracy of different model"
   ]
  },
  {
   "cell_type": "code",
   "execution_count": 44,
   "metadata": {},
   "outputs": [
    {
     "data": {
      "text/plain": [
       "<matplotlib.legend.Legend at 0x1a2e715cc0>"
      ]
     },
     "execution_count": 44,
     "metadata": {},
     "output_type": "execute_result"
    },
    {
     "data": {
      "image/png": "[encoded data removed]",
      "text/plain": [
       "<Figure size 720x576 with 1 Axes>"
      ]
     },
     "metadata": {
      "needs_background": "light"
     },
     "output_type": "display_data"
    }
   ],
   "source": [
    "nfeatures_plot_ugt = pd.DataFrame(feature_result_ug,columns=['nfeatures','validation_accuracy'])\n",
    "svc_nfeatures_plot_ugt = pd.DataFrame(svc_feature_result_ug,columns=['nfeatures','validation_accuracy'])\n",
    "nb_nfeatures_plot_ugt = pd.DataFrame(nb_feature_result_ug,columns=['nfeatures','validation_accuracy'])\n",
    "\n",
    "plt.figure(figsize=(10,8))\n",
    "plt.plot(nfeatures_plot_ug.nfeatures, nfeatures_plot_ug.validation_accuracy,label='Logistic Regression',color='royalblue')\n",
    "plt.plot(svc_nfeatures_plot_ug.nfeatures, svc_nfeatures_plot_ug.validation_accuracy,label='SVM', color='green')\n",
    "plt.plot(nb_nfeatures_plot_ug.nfeatures, nb_nfeatures_plot_ug.validation_accuracy,label='Naive-Baiyes',color='orangered')\n",
    "\n",
    "plt.title(\"N-gram test result : Accuracy\")\n",
    "plt.xlabel(\"Number of features\")\n",
    "plt.ylabel(\"Validation set accuracy\")\n",
    "plt.legend()"
   ]
  },
  {
   "cell_type": "markdown",
   "metadata": {},
   "source": [
    "## Step-7 : Finally we'll select Logistic Regression for a final Evaluation"
   ]
  },
  {
   "cell_type": "code",
   "execution_count": 50,
   "metadata": {},
   "outputs": [],
   "source": [
    "def train_test_and_evaluate(pipeline, x_train, y_train, x_test, y_test):\n",
    "    if len(x_test[y_test == 0]) / (len(x_test)*1.) > 0.5:\n",
    "        null_accuracy = len(x_test[y_test == 0]) / (len(x_test)*1.)\n",
    "    else:\n",
    "        null_accuracy = 1. - (len(x_test[y_test == 0]) / (len(x_test)*1.))\n",
    "    sentiment_fit = pipeline.fit(x_train, y_train)\n",
    "    y_pred = sentiment_fit.predict(x_test)\n",
    "    accuracy = accuracy_score(y_test, y_pred)\n",
    "    conmat = np.array(confusion_matrix(y_test, y_pred, labels=[0,1]))\n",
    "    confusion = pd.DataFrame(conmat, index=['neutral', 'negative'],\n",
    "                         columns=['predicted_neutral','predicted_negative'])\n",
    "    print(\"null accuracy: {0:.2f}%\".format(null_accuracy*100))\n",
    "    print(\"accuracy score: {0:.2f}%\".format(accuracy*100))\n",
    "    if accuracy > null_accuracy:\n",
    "        print(\"model is {0:.2f}% more accurate than null accuracy\".format((accuracy-null_accuracy)*100))\n",
    "    elif accuracy == null_accuracy:\n",
    "        print(\"model has the same accuracy with the null accuracy\")\n",
    "    else:\n",
    "        print(\"model is {0:.2f}% less accurate than null accuracy\".format((null_accuracy-accuracy)*100))\n",
    "    print(\"-\"*80)\n",
    "    print(\"Confusion Matrix\\n\")\n",
    "    print(confusion)\n",
    "    print(\"-\"*80)\n",
    "    print(\"Classification Report\\n\")\n",
    "    print(classification_report(y_test, y_pred, target_names=['neutral','negative']))"
   ]
  },
  {
   "cell_type": "code",
   "execution_count": 51,
   "metadata": {},
   "outputs": [
    {
     "name": "stdout",
     "output_type": "stream",
     "text": [
      "null accuracy: 83.33%\n",
      "accuracy score: 95.84%\n",
      "model is 12.51% more accurate than null accuracy\n",
      "--------------------------------------------------------------------------------\n",
      "Confusion Matrix\n",
      "\n",
      "          predicted_neutral  predicted_negative\n",
      "neutral                 376                  37\n",
      "negative                 66                1999\n",
      "--------------------------------------------------------------------------------\n",
      "Classification Report\n",
      "\n",
      "              precision    recall  f1-score   support\n",
      "\n",
      "     neutral       0.85      0.91      0.88       413\n",
      "    negative       0.98      0.97      0.97      2065\n",
      "\n",
      "    accuracy                           0.96      2478\n",
      "   macro avg       0.92      0.94      0.93      2478\n",
      "weighted avg       0.96      0.96      0.96      2478\n",
      "\n",
      "CPU times: user 3.85 s, sys: 87.2 ms, total: 3.94 s\n",
      "Wall time: 2.5 s\n"
     ]
    }
   ],
   "source": [
    "%%time\n",
    "ug_cvec = CountVectorizer(max_features=80000,ngram_range=(1, 3))\n",
    "ug_pipeline = Pipeline([\n",
    "        ('vectorizer', ug_cvec),\n",
    "        ('classifier', lr)\n",
    "    ])\n",
    "train_test_and_evaluate(ug_pipeline, x_train, y_train, x_validation, y_validation)"
   ]
  }
 ],
 "metadata": {
  "kernelspec": {
   "display_name": "Python 3",
   "language": "python",
   "name": "python3"
  },
  "language_info": {
   "codemirror_mode": {
    "name": "ipython",
    "version": 3
   },
   "file_extension": ".py",
   "mimetype": "text/x-python",
   "name": "python",
   "nbconvert_exporter": "python",
   "pygments_lexer": "ipython3",
   "version": "3.7.3"
  }
 },
 "nbformat": 4,
 "nbformat_minor": 2
}
